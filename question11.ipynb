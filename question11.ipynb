{
 "cells": [
  {
   "cell_type": "markdown",
   "id": "c04fed62-2806-422e-aaed-d8ac2898958c",
   "metadata": {},
   "source": [
    "# Geoffrey Hill\n",
    "Notebook for Assignment 7"
   ]
  },
  {
   "cell_type": "code",
   "execution_count": 5,
   "id": "b6b39530-c226-4a7b-a13f-538313664b8e",
   "metadata": {},
   "outputs": [],
   "source": [
    "def compute_mean(x):\n",
    "    y=sum(x)/len(x)\n",
    "    return y"
   ]
  },
  {
   "cell_type": "code",
   "execution_count": 6,
   "id": "960a67d9-d324-4fe0-b3e8-6616c467e1e5",
   "metadata": {},
   "outputs": [
    {
     "name": "stdout",
     "output_type": "stream",
     "text": [
      "5.0\n"
     ]
    }
   ],
   "source": [
    "print(compute_mean([2,4,6,8]))"
   ]
  },
  {
   "cell_type": "markdown",
   "id": "ed216408-7054-489c-8bae-31666bba3ad2",
   "metadata": {},
   "source": [
    "# compute_mean description\n",
    "The above function finds the average value of a Python list, as it adds the value of the all the numbers in the list and divides it by the number of values provided in the list. The formula for this can be found below:\n",
    "$$ \\begin{aligned}\n",
    "\\bar{x}=\\frac{x_1+x_2+\\dots+ x_n}{n}=\\frac{1}{n}\\left( \\sum_{i=1}^{n} x_i \\right)\n",
    "\\end{aligned}\n",
    "$$"
   ]
  },
  {
   "cell_type": "code",
   "execution_count": null,
   "id": "33481ab3-8f26-4078-bac6-767a6efdfb4e",
   "metadata": {},
   "outputs": [],
   "source": []
  }
 ],
 "metadata": {
  "kernelspec": {
   "display_name": "Python [conda env:jupyterlab_practice]",
   "language": "python",
   "name": "conda-env-jupyterlab_practice-py"
  },
  "language_info": {
   "codemirror_mode": {
    "name": "ipython",
    "version": 3
   },
   "file_extension": ".py",
   "mimetype": "text/x-python",
   "name": "python",
   "nbconvert_exporter": "python",
   "pygments_lexer": "ipython3",
   "version": "3.13.0"
  }
 },
 "nbformat": 4,
 "nbformat_minor": 5
}
