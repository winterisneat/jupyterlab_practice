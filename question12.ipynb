{
 "cells": [
  {
   "cell_type": "markdown",
   "id": "148f505a-d005-49fc-a866-c9046fb2ab0f",
   "metadata": {},
   "source": [
    "We are currently working in the following directory:"
   ]
  },
  {
   "cell_type": "code",
   "execution_count": 2,
   "id": "0de91457-a8ed-4ddb-afda-35c343e7fc76",
   "metadata": {},
   "outputs": [
    {
     "data": {
      "text/plain": [
       "'C:\\\\Users\\\\HILG7397\\\\Documents\\\\Data Science\\\\Assignment 7\\\\jupyterlab_practice'"
      ]
     },
     "execution_count": 2,
     "metadata": {},
     "output_type": "execute_result"
    }
   ],
   "source": [
    "pwd"
   ]
  },
  {
   "cell_type": "markdown",
   "id": "940cfddf-c8d4-41fe-bd01-55f80adacc46",
   "metadata": {},
   "source": [
    "To time how long it takes to run a Python cell, we could use the timeit command inside a cell as is shown below: \n",
    "```\n",
    "%%timeit\n",
    "\n",
    "for i in range(1_000_000):\n",
    "    i**2\n",
    "```\n",
    "Followed by the proper use of the timeit command to time the following loop:"
   ]
  },
  {
   "cell_type": "code",
   "execution_count": 3,
   "id": "a117819a-affd-4d68-b45c-90059741788f",
   "metadata": {},
   "outputs": [
    {
     "name": "stdout",
     "output_type": "stream",
     "text": [
      "133 ms ± 8.25 ms per loop (mean ± std. dev. of 7 runs, 10 loops each)\n"
     ]
    }
   ],
   "source": [
    "%%timeit\n",
    "\n",
    "for i in range(1_000_000):\n",
    "    i**2"
   ]
  },
  {
   "cell_type": "code",
   "execution_count": 5,
   "id": "5690a381-2e93-4c49-99b6-13fcdba453d1",
   "metadata": {},
   "outputs": [
    {
     "name": "stderr",
     "output_type": "stream",
     "text": [
      "C:\\Users\\HILG7397\\AppData\\Local\\miniconda3\\envs\\jupyterlab_practice\\Scripts\\jupyter-nbconvert-script.py:5: DeprecationWarning: Parsing dates involving a day of month without a year specified is ambiguious\n",
      "and fails to parse leap day. The default behavior will change in Python 3.15\n",
      "to either always raise an exception or to use a different default year (TBD).\n",
      "To avoid trouble, add a specific year to the input & format.\n",
      "See https://github.com/python/cpython/issues/70647.\n",
      "  from nbconvert.nbconvertapp import main\n",
      "[NbConvertApp] Converting notebook question12.ipynb to html\n",
      "[NbConvertApp] Writing 271821 bytes to question12_no_code.html\n"
     ]
    }
   ],
   "source": [
    "# Export notebook without code cells\n",
    "!jupyter nbconvert question12.ipynb \\\n",
    "    --to html \\\n",
    "    --output=question12_no_code.html \\\n",
    "    --no-input"
   ]
  },
  {
   "cell_type": "code",
   "execution_count": null,
   "id": "456027ea-3534-4448-a00a-87f3b37a8db1",
   "metadata": {},
   "outputs": [],
   "source": []
  }
 ],
 "metadata": {
  "kernelspec": {
   "display_name": "Python [conda env:jupyterlab_practice]",
   "language": "python",
   "name": "conda-env-jupyterlab_practice-py"
  },
  "language_info": {
   "codemirror_mode": {
    "name": "ipython",
    "version": 3
   },
   "file_extension": ".py",
   "mimetype": "text/x-python",
   "name": "python",
   "nbconvert_exporter": "python",
   "pygments_lexer": "ipython3",
   "version": "3.13.0"
  }
 },
 "nbformat": 4,
 "nbformat_minor": 5
}
